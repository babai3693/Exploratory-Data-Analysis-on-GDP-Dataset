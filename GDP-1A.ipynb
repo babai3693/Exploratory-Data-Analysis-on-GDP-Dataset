{
 "cells": [
  {
   "cell_type": "code",
   "execution_count": 50,
   "metadata": {},
   "outputs": [
    {
     "name": "stderr",
     "output_type": "stream",
     "text": [
      "UsageError: Line magic function `%` not found.\n"
     ]
    }
   ],
   "source": [
    "import pandas as pd\n",
    "import numpy as np\n",
    "import matplotlib.pyplot as plt\n",
    "import seaborn as sns\n",
    "% matplotlib inline"
   ]
  },
  {
   "cell_type": "code",
   "execution_count": 51,
   "metadata": {},
   "outputs": [
    {
     "data": {
      "text/html": [
       "<div>\n",
       "<style scoped>\n",
       "    .dataframe tbody tr th:only-of-type {\n",
       "        vertical-align: middle;\n",
       "    }\n",
       "\n",
       "    .dataframe tbody tr th {\n",
       "        vertical-align: top;\n",
       "    }\n",
       "\n",
       "    .dataframe thead th {\n",
       "        text-align: right;\n",
       "    }\n",
       "</style>\n",
       "<table border=\"1\" class=\"dataframe\">\n",
       "  <thead>\n",
       "    <tr style=\"text-align: right;\">\n",
       "      <th></th>\n",
       "      <th>Items  Description</th>\n",
       "      <th>Duration</th>\n",
       "      <th>Andhra Pradesh</th>\n",
       "      <th>Arunachal Pradesh</th>\n",
       "      <th>Assam</th>\n",
       "      <th>Bihar</th>\n",
       "      <th>Chhattisgarh</th>\n",
       "      <th>Goa</th>\n",
       "      <th>Gujarat</th>\n",
       "      <th>Haryana</th>\n",
       "      <th>...</th>\n",
       "      <th>Telangana</th>\n",
       "      <th>Tripura</th>\n",
       "      <th>Uttar Pradesh</th>\n",
       "      <th>Uttarakhand</th>\n",
       "      <th>West Bengal1</th>\n",
       "      <th>Andaman &amp; Nicobar Islands</th>\n",
       "      <th>Chandigarh</th>\n",
       "      <th>Delhi</th>\n",
       "      <th>Puducherry</th>\n",
       "      <th>All_India GDP</th>\n",
       "    </tr>\n",
       "  </thead>\n",
       "  <tbody>\n",
       "    <tr>\n",
       "      <th>0</th>\n",
       "      <td>GSDP - CURRENT PRICES (` in Crore)</td>\n",
       "      <td>2011-12</td>\n",
       "      <td>379402.00</td>\n",
       "      <td>11063.00</td>\n",
       "      <td>143175.00</td>\n",
       "      <td>247144.00</td>\n",
       "      <td>158074.00</td>\n",
       "      <td>42367.00</td>\n",
       "      <td>615606.00</td>\n",
       "      <td>297539.00</td>\n",
       "      <td>...</td>\n",
       "      <td>359433.00</td>\n",
       "      <td>19208.00</td>\n",
       "      <td>724049.00</td>\n",
       "      <td>115523.00</td>\n",
       "      <td>NaN</td>\n",
       "      <td>3979.00</td>\n",
       "      <td>18768.00</td>\n",
       "      <td>343767.00</td>\n",
       "      <td>16818.00</td>\n",
       "      <td>8736039.00</td>\n",
       "    </tr>\n",
       "    <tr>\n",
       "      <th>1</th>\n",
       "      <td>GSDP - CURRENT PRICES (` in Crore)</td>\n",
       "      <td>2012-13</td>\n",
       "      <td>411404.00</td>\n",
       "      <td>12547.00</td>\n",
       "      <td>156864.00</td>\n",
       "      <td>282368.00</td>\n",
       "      <td>177511.00</td>\n",
       "      <td>38120.00</td>\n",
       "      <td>724495.00</td>\n",
       "      <td>347032.00</td>\n",
       "      <td>...</td>\n",
       "      <td>401493.00</td>\n",
       "      <td>21663.00</td>\n",
       "      <td>822903.00</td>\n",
       "      <td>131835.00</td>\n",
       "      <td>NaN</td>\n",
       "      <td>4421.00</td>\n",
       "      <td>21609.00</td>\n",
       "      <td>391238.00</td>\n",
       "      <td>18875.00</td>\n",
       "      <td>9946636.00</td>\n",
       "    </tr>\n",
       "    <tr>\n",
       "      <th>2</th>\n",
       "      <td>GSDP - CURRENT PRICES (` in Crore)</td>\n",
       "      <td>2013-14</td>\n",
       "      <td>464272.00</td>\n",
       "      <td>14602.00</td>\n",
       "      <td>177745.00</td>\n",
       "      <td>317101.00</td>\n",
       "      <td>206690.00</td>\n",
       "      <td>35921.00</td>\n",
       "      <td>807623.00</td>\n",
       "      <td>400662.00</td>\n",
       "      <td>...</td>\n",
       "      <td>452186.00</td>\n",
       "      <td>25593.00</td>\n",
       "      <td>944146.00</td>\n",
       "      <td>149817.00</td>\n",
       "      <td>NaN</td>\n",
       "      <td>5159.00</td>\n",
       "      <td>24787.00</td>\n",
       "      <td>443783.00</td>\n",
       "      <td>21870.00</td>\n",
       "      <td>11236635.00</td>\n",
       "    </tr>\n",
       "    <tr>\n",
       "      <th>3</th>\n",
       "      <td>GSDP - CURRENT PRICES (` in Crore)</td>\n",
       "      <td>2014-15</td>\n",
       "      <td>526468.00</td>\n",
       "      <td>16761.00</td>\n",
       "      <td>198098.00</td>\n",
       "      <td>373920.00</td>\n",
       "      <td>234982.00</td>\n",
       "      <td>40633.00</td>\n",
       "      <td>895027.00</td>\n",
       "      <td>437462.00</td>\n",
       "      <td>...</td>\n",
       "      <td>511178.00</td>\n",
       "      <td>29667.00</td>\n",
       "      <td>1043371.00</td>\n",
       "      <td>161985.00</td>\n",
       "      <td>NaN</td>\n",
       "      <td>5721.00</td>\n",
       "      <td>27844.00</td>\n",
       "      <td>492424.00</td>\n",
       "      <td>24089.00</td>\n",
       "      <td>12433749.00</td>\n",
       "    </tr>\n",
       "    <tr>\n",
       "      <th>4</th>\n",
       "      <td>GSDP - CURRENT PRICES (` in Crore)</td>\n",
       "      <td>2015-16</td>\n",
       "      <td>609934.00</td>\n",
       "      <td>18784.00</td>\n",
       "      <td>224234.00</td>\n",
       "      <td>413503.00</td>\n",
       "      <td>260776.00</td>\n",
       "      <td>45002.00</td>\n",
       "      <td>994316.00</td>\n",
       "      <td>485184.00</td>\n",
       "      <td>...</td>\n",
       "      <td>575631.00</td>\n",
       "      <td>NaN</td>\n",
       "      <td>1153795.00</td>\n",
       "      <td>184091.00</td>\n",
       "      <td>NaN</td>\n",
       "      <td>NaN</td>\n",
       "      <td>30304.00</td>\n",
       "      <td>551963.00</td>\n",
       "      <td>26533.00</td>\n",
       "      <td>13675331.00</td>\n",
       "    </tr>\n",
       "    <tr>\n",
       "      <th>5</th>\n",
       "      <td>GSDP - CURRENT PRICES (` in Crore)</td>\n",
       "      <td>2016-17</td>\n",
       "      <td>699307.00</td>\n",
       "      <td>NaN</td>\n",
       "      <td>NaN</td>\n",
       "      <td>NaN</td>\n",
       "      <td>290140.00</td>\n",
       "      <td>NaN</td>\n",
       "      <td>NaN</td>\n",
       "      <td>547396.00</td>\n",
       "      <td>...</td>\n",
       "      <td>654294.00</td>\n",
       "      <td>NaN</td>\n",
       "      <td>NaN</td>\n",
       "      <td>NaN</td>\n",
       "      <td>NaN</td>\n",
       "      <td>NaN</td>\n",
       "      <td>NaN</td>\n",
       "      <td>622385.00</td>\n",
       "      <td>29557.00</td>\n",
       "      <td>15251028.00</td>\n",
       "    </tr>\n",
       "    <tr>\n",
       "      <th>6</th>\n",
       "      <td>(% Growth over previous year)</td>\n",
       "      <td>2012-13</td>\n",
       "      <td>8.43</td>\n",
       "      <td>13.41</td>\n",
       "      <td>9.56</td>\n",
       "      <td>14.25</td>\n",
       "      <td>12.30</td>\n",
       "      <td>-10.02</td>\n",
       "      <td>17.69</td>\n",
       "      <td>16.63</td>\n",
       "      <td>...</td>\n",
       "      <td>11.70</td>\n",
       "      <td>12.78</td>\n",
       "      <td>13.65</td>\n",
       "      <td>14.12</td>\n",
       "      <td>NaN</td>\n",
       "      <td>11.13</td>\n",
       "      <td>15.14</td>\n",
       "      <td>13.81</td>\n",
       "      <td>12.23</td>\n",
       "      <td>13.86</td>\n",
       "    </tr>\n",
       "    <tr>\n",
       "      <th>7</th>\n",
       "      <td>(% Growth over previous year)</td>\n",
       "      <td>2013-14</td>\n",
       "      <td>12.85</td>\n",
       "      <td>16.38</td>\n",
       "      <td>13.31</td>\n",
       "      <td>12.30</td>\n",
       "      <td>16.44</td>\n",
       "      <td>-5.77</td>\n",
       "      <td>11.47</td>\n",
       "      <td>15.45</td>\n",
       "      <td>...</td>\n",
       "      <td>12.63</td>\n",
       "      <td>18.14</td>\n",
       "      <td>14.73</td>\n",
       "      <td>13.64</td>\n",
       "      <td>NaN</td>\n",
       "      <td>16.68</td>\n",
       "      <td>14.71</td>\n",
       "      <td>13.43</td>\n",
       "      <td>15.87</td>\n",
       "      <td>12.97</td>\n",
       "    </tr>\n",
       "    <tr>\n",
       "      <th>8</th>\n",
       "      <td>(% Growth over previous year)</td>\n",
       "      <td>2014-15</td>\n",
       "      <td>13.40</td>\n",
       "      <td>14.79</td>\n",
       "      <td>11.45</td>\n",
       "      <td>17.92</td>\n",
       "      <td>13.69</td>\n",
       "      <td>13.12</td>\n",
       "      <td>10.82</td>\n",
       "      <td>9.18</td>\n",
       "      <td>...</td>\n",
       "      <td>13.05</td>\n",
       "      <td>15.92</td>\n",
       "      <td>10.51</td>\n",
       "      <td>8.12</td>\n",
       "      <td>NaN</td>\n",
       "      <td>10.89</td>\n",
       "      <td>12.33</td>\n",
       "      <td>10.96</td>\n",
       "      <td>10.14</td>\n",
       "      <td>10.65</td>\n",
       "    </tr>\n",
       "    <tr>\n",
       "      <th>9</th>\n",
       "      <td>(% Growth over previous year)</td>\n",
       "      <td>2015-16</td>\n",
       "      <td>15.85</td>\n",
       "      <td>12.07</td>\n",
       "      <td>13.19</td>\n",
       "      <td>10.59</td>\n",
       "      <td>10.98</td>\n",
       "      <td>10.75</td>\n",
       "      <td>11.09</td>\n",
       "      <td>10.91</td>\n",
       "      <td>...</td>\n",
       "      <td>12.61</td>\n",
       "      <td>NaN</td>\n",
       "      <td>10.58</td>\n",
       "      <td>13.65</td>\n",
       "      <td>NaN</td>\n",
       "      <td>NaN</td>\n",
       "      <td>8.84</td>\n",
       "      <td>12.09</td>\n",
       "      <td>10.15</td>\n",
       "      <td>9.99</td>\n",
       "    </tr>\n",
       "    <tr>\n",
       "      <th>10</th>\n",
       "      <td>(% Growth over previous year)</td>\n",
       "      <td>2016-17</td>\n",
       "      <td>14.65</td>\n",
       "      <td>NaN</td>\n",
       "      <td>NaN</td>\n",
       "      <td>NaN</td>\n",
       "      <td>11.26</td>\n",
       "      <td>NaN</td>\n",
       "      <td>NaN</td>\n",
       "      <td>12.82</td>\n",
       "      <td>...</td>\n",
       "      <td>13.67</td>\n",
       "      <td>NaN</td>\n",
       "      <td>NaN</td>\n",
       "      <td>NaN</td>\n",
       "      <td>NaN</td>\n",
       "      <td>NaN</td>\n",
       "      <td>NaN</td>\n",
       "      <td>12.76</td>\n",
       "      <td>11.40</td>\n",
       "      <td>11.52</td>\n",
       "    </tr>\n",
       "  </tbody>\n",
       "</table>\n",
       "<p>11 rows × 36 columns</p>\n",
       "</div>"
      ],
      "text/plain": [
       "                    Items  Description Duration  Andhra Pradesh   \\\n",
       "0   GSDP - CURRENT PRICES (` in Crore)  2011-12        379402.00   \n",
       "1   GSDP - CURRENT PRICES (` in Crore)  2012-13        411404.00   \n",
       "2   GSDP - CURRENT PRICES (` in Crore)  2013-14        464272.00   \n",
       "3   GSDP - CURRENT PRICES (` in Crore)  2014-15        526468.00   \n",
       "4   GSDP - CURRENT PRICES (` in Crore)  2015-16        609934.00   \n",
       "5   GSDP - CURRENT PRICES (` in Crore)  2016-17        699307.00   \n",
       "6        (% Growth over previous year)  2012-13             8.43   \n",
       "7        (% Growth over previous year)  2013-14            12.85   \n",
       "8        (% Growth over previous year)  2014-15            13.40   \n",
       "9        (% Growth over previous year)  2015-16            15.85   \n",
       "10       (% Growth over previous year)  2016-17            14.65   \n",
       "\n",
       "    Arunachal Pradesh      Assam      Bihar  Chhattisgarh       Goa  \\\n",
       "0            11063.00  143175.00  247144.00     158074.00  42367.00   \n",
       "1            12547.00  156864.00  282368.00     177511.00  38120.00   \n",
       "2            14602.00  177745.00  317101.00     206690.00  35921.00   \n",
       "3            16761.00  198098.00  373920.00     234982.00  40633.00   \n",
       "4            18784.00  224234.00  413503.00     260776.00  45002.00   \n",
       "5                 NaN        NaN        NaN     290140.00       NaN   \n",
       "6               13.41       9.56      14.25         12.30    -10.02   \n",
       "7               16.38      13.31      12.30         16.44     -5.77   \n",
       "8               14.79      11.45      17.92         13.69     13.12   \n",
       "9               12.07      13.19      10.59         10.98     10.75   \n",
       "10                NaN        NaN        NaN         11.26       NaN   \n",
       "\n",
       "      Gujarat    Haryana  ...  Telangana   Tripura  Uttar Pradesh  \\\n",
       "0   615606.00  297539.00  ...  359433.00  19208.00      724049.00   \n",
       "1   724495.00  347032.00  ...  401493.00  21663.00      822903.00   \n",
       "2   807623.00  400662.00  ...  452186.00  25593.00      944146.00   \n",
       "3   895027.00  437462.00  ...  511178.00  29667.00     1043371.00   \n",
       "4   994316.00  485184.00  ...  575631.00       NaN     1153795.00   \n",
       "5         NaN  547396.00  ...  654294.00       NaN            NaN   \n",
       "6       17.69      16.63  ...      11.70     12.78          13.65   \n",
       "7       11.47      15.45  ...      12.63     18.14          14.73   \n",
       "8       10.82       9.18  ...      13.05     15.92          10.51   \n",
       "9       11.09      10.91  ...      12.61       NaN          10.58   \n",
       "10        NaN      12.82  ...      13.67       NaN            NaN   \n",
       "\n",
       "    Uttarakhand  West Bengal1  Andaman & Nicobar Islands  Chandigarh  \\\n",
       "0     115523.00           NaN                    3979.00    18768.00   \n",
       "1     131835.00           NaN                    4421.00    21609.00   \n",
       "2     149817.00           NaN                    5159.00    24787.00   \n",
       "3     161985.00           NaN                    5721.00    27844.00   \n",
       "4     184091.00           NaN                        NaN    30304.00   \n",
       "5           NaN           NaN                        NaN         NaN   \n",
       "6         14.12           NaN                      11.13       15.14   \n",
       "7         13.64           NaN                      16.68       14.71   \n",
       "8          8.12           NaN                      10.89       12.33   \n",
       "9         13.65           NaN                        NaN        8.84   \n",
       "10          NaN           NaN                        NaN         NaN   \n",
       "\n",
       "        Delhi  Puducherry  All_India GDP  \n",
       "0   343767.00    16818.00     8736039.00  \n",
       "1   391238.00    18875.00     9946636.00  \n",
       "2   443783.00    21870.00    11236635.00  \n",
       "3   492424.00    24089.00    12433749.00  \n",
       "4   551963.00    26533.00    13675331.00  \n",
       "5   622385.00    29557.00    15251028.00  \n",
       "6       13.81       12.23          13.86  \n",
       "7       13.43       15.87          12.97  \n",
       "8       10.96       10.14          10.65  \n",
       "9       12.09       10.15           9.99  \n",
       "10      12.76       11.40          11.52  \n",
       "\n",
       "[11 rows x 36 columns]"
      ]
     },
     "execution_count": 51,
     "metadata": {},
     "output_type": "execute_result"
    }
   ],
   "source": [
    "df1a = pd.read_csv(\"ab40c054-5031-4376-b52e-9813e776f65e.csv\")\n",
    "df1a"
   ]
  },
  {
   "cell_type": "code",
   "execution_count": 52,
   "metadata": {},
   "outputs": [
    {
     "data": {
      "text/html": [
       "<div>\n",
       "<style scoped>\n",
       "    .dataframe tbody tr th:only-of-type {\n",
       "        vertical-align: middle;\n",
       "    }\n",
       "\n",
       "    .dataframe tbody tr th {\n",
       "        vertical-align: top;\n",
       "    }\n",
       "\n",
       "    .dataframe thead th {\n",
       "        text-align: right;\n",
       "    }\n",
       "</style>\n",
       "<table border=\"1\" class=\"dataframe\">\n",
       "  <thead>\n",
       "    <tr style=\"text-align: right;\">\n",
       "      <th></th>\n",
       "      <th>Items  Description</th>\n",
       "      <th>Duration</th>\n",
       "      <th>Andhra Pradesh</th>\n",
       "      <th>Arunachal Pradesh</th>\n",
       "      <th>Assam</th>\n",
       "      <th>Bihar</th>\n",
       "      <th>Chhattisgarh</th>\n",
       "      <th>Goa</th>\n",
       "      <th>Gujarat</th>\n",
       "      <th>Haryana</th>\n",
       "      <th>...</th>\n",
       "      <th>Telangana</th>\n",
       "      <th>Tripura</th>\n",
       "      <th>Uttar Pradesh</th>\n",
       "      <th>Uttarakhand</th>\n",
       "      <th>West Bengal1</th>\n",
       "      <th>Andaman &amp; Nicobar Islands</th>\n",
       "      <th>Chandigarh</th>\n",
       "      <th>Delhi</th>\n",
       "      <th>Puducherry</th>\n",
       "      <th>All_India GDP</th>\n",
       "    </tr>\n",
       "  </thead>\n",
       "  <tbody>\n",
       "    <tr>\n",
       "      <th>6</th>\n",
       "      <td>(% Growth over previous year)</td>\n",
       "      <td>2012-13</td>\n",
       "      <td>8.43</td>\n",
       "      <td>13.41</td>\n",
       "      <td>9.56</td>\n",
       "      <td>14.25</td>\n",
       "      <td>12.30</td>\n",
       "      <td>-10.02</td>\n",
       "      <td>17.69</td>\n",
       "      <td>16.63</td>\n",
       "      <td>...</td>\n",
       "      <td>11.70</td>\n",
       "      <td>12.78</td>\n",
       "      <td>13.65</td>\n",
       "      <td>14.12</td>\n",
       "      <td>NaN</td>\n",
       "      <td>11.13</td>\n",
       "      <td>15.14</td>\n",
       "      <td>13.81</td>\n",
       "      <td>12.23</td>\n",
       "      <td>13.86</td>\n",
       "    </tr>\n",
       "    <tr>\n",
       "      <th>7</th>\n",
       "      <td>(% Growth over previous year)</td>\n",
       "      <td>2013-14</td>\n",
       "      <td>12.85</td>\n",
       "      <td>16.38</td>\n",
       "      <td>13.31</td>\n",
       "      <td>12.30</td>\n",
       "      <td>16.44</td>\n",
       "      <td>-5.77</td>\n",
       "      <td>11.47</td>\n",
       "      <td>15.45</td>\n",
       "      <td>...</td>\n",
       "      <td>12.63</td>\n",
       "      <td>18.14</td>\n",
       "      <td>14.73</td>\n",
       "      <td>13.64</td>\n",
       "      <td>NaN</td>\n",
       "      <td>16.68</td>\n",
       "      <td>14.71</td>\n",
       "      <td>13.43</td>\n",
       "      <td>15.87</td>\n",
       "      <td>12.97</td>\n",
       "    </tr>\n",
       "    <tr>\n",
       "      <th>8</th>\n",
       "      <td>(% Growth over previous year)</td>\n",
       "      <td>2014-15</td>\n",
       "      <td>13.40</td>\n",
       "      <td>14.79</td>\n",
       "      <td>11.45</td>\n",
       "      <td>17.92</td>\n",
       "      <td>13.69</td>\n",
       "      <td>13.12</td>\n",
       "      <td>10.82</td>\n",
       "      <td>9.18</td>\n",
       "      <td>...</td>\n",
       "      <td>13.05</td>\n",
       "      <td>15.92</td>\n",
       "      <td>10.51</td>\n",
       "      <td>8.12</td>\n",
       "      <td>NaN</td>\n",
       "      <td>10.89</td>\n",
       "      <td>12.33</td>\n",
       "      <td>10.96</td>\n",
       "      <td>10.14</td>\n",
       "      <td>10.65</td>\n",
       "    </tr>\n",
       "    <tr>\n",
       "      <th>9</th>\n",
       "      <td>(% Growth over previous year)</td>\n",
       "      <td>2015-16</td>\n",
       "      <td>15.85</td>\n",
       "      <td>12.07</td>\n",
       "      <td>13.19</td>\n",
       "      <td>10.59</td>\n",
       "      <td>10.98</td>\n",
       "      <td>10.75</td>\n",
       "      <td>11.09</td>\n",
       "      <td>10.91</td>\n",
       "      <td>...</td>\n",
       "      <td>12.61</td>\n",
       "      <td>NaN</td>\n",
       "      <td>10.58</td>\n",
       "      <td>13.65</td>\n",
       "      <td>NaN</td>\n",
       "      <td>NaN</td>\n",
       "      <td>8.84</td>\n",
       "      <td>12.09</td>\n",
       "      <td>10.15</td>\n",
       "      <td>9.99</td>\n",
       "    </tr>\n",
       "    <tr>\n",
       "      <th>10</th>\n",
       "      <td>(% Growth over previous year)</td>\n",
       "      <td>2016-17</td>\n",
       "      <td>14.65</td>\n",
       "      <td>NaN</td>\n",
       "      <td>NaN</td>\n",
       "      <td>NaN</td>\n",
       "      <td>11.26</td>\n",
       "      <td>NaN</td>\n",
       "      <td>NaN</td>\n",
       "      <td>12.82</td>\n",
       "      <td>...</td>\n",
       "      <td>13.67</td>\n",
       "      <td>NaN</td>\n",
       "      <td>NaN</td>\n",
       "      <td>NaN</td>\n",
       "      <td>NaN</td>\n",
       "      <td>NaN</td>\n",
       "      <td>NaN</td>\n",
       "      <td>12.76</td>\n",
       "      <td>11.40</td>\n",
       "      <td>11.52</td>\n",
       "    </tr>\n",
       "  </tbody>\n",
       "</table>\n",
       "<p>5 rows × 36 columns</p>\n",
       "</div>"
      ],
      "text/plain": [
       "               Items  Description Duration  Andhra Pradesh   \\\n",
       "6   (% Growth over previous year)  2012-13             8.43   \n",
       "7   (% Growth over previous year)  2013-14            12.85   \n",
       "8   (% Growth over previous year)  2014-15            13.40   \n",
       "9   (% Growth over previous year)  2015-16            15.85   \n",
       "10  (% Growth over previous year)  2016-17            14.65   \n",
       "\n",
       "    Arunachal Pradesh  Assam  Bihar  Chhattisgarh    Goa  Gujarat  Haryana  \\\n",
       "6               13.41   9.56  14.25         12.30 -10.02    17.69    16.63   \n",
       "7               16.38  13.31  12.30         16.44  -5.77    11.47    15.45   \n",
       "8               14.79  11.45  17.92         13.69  13.12    10.82     9.18   \n",
       "9               12.07  13.19  10.59         10.98  10.75    11.09    10.91   \n",
       "10                NaN    NaN    NaN         11.26    NaN      NaN    12.82   \n",
       "\n",
       "    ...  Telangana  Tripura  Uttar Pradesh  Uttarakhand  West Bengal1  \\\n",
       "6   ...      11.70    12.78          13.65        14.12           NaN   \n",
       "7   ...      12.63    18.14          14.73        13.64           NaN   \n",
       "8   ...      13.05    15.92          10.51         8.12           NaN   \n",
       "9   ...      12.61      NaN          10.58        13.65           NaN   \n",
       "10  ...      13.67      NaN            NaN          NaN           NaN   \n",
       "\n",
       "    Andaman & Nicobar Islands  Chandigarh  Delhi  Puducherry  All_India GDP  \n",
       "6                       11.13       15.14  13.81       12.23          13.86  \n",
       "7                       16.68       14.71  13.43       15.87          12.97  \n",
       "8                       10.89       12.33  10.96       10.14          10.65  \n",
       "9                         NaN        8.84  12.09       10.15           9.99  \n",
       "10                        NaN         NaN  12.76       11.40          11.52  \n",
       "\n",
       "[5 rows x 36 columns]"
      ]
     },
     "execution_count": 52,
     "metadata": {},
     "output_type": "execute_result"
    }
   ],
   "source": [
    "percent_growth_df = df1a[6:11]\n",
    "percent_growth_df"
   ]
  },
  {
   "cell_type": "code",
   "execution_count": 53,
   "metadata": {},
   "outputs": [
    {
     "data": {
      "text/plain": [
       "Items  Description           0\n",
       "Duration                     0\n",
       "Andhra Pradesh               0\n",
       "Arunachal Pradesh            1\n",
       "Assam                        1\n",
       "Bihar                        1\n",
       "Chhattisgarh                 0\n",
       "Goa                          1\n",
       "Gujarat                      1\n",
       "Haryana                      0\n",
       "Himachal Pradesh             2\n",
       "Jammu & Kashmir              1\n",
       "Jharkhand                    1\n",
       "Karnataka                    1\n",
       "Kerala                       1\n",
       "Madhya Pradesh               0\n",
       "Maharashtra                  2\n",
       "Manipur                      2\n",
       "Meghalaya                    0\n",
       "Mizoram                      2\n",
       "Nagaland                     2\n",
       "Odisha                       0\n",
       "Punjab                       2\n",
       "Rajasthan                    2\n",
       "Sikkim                       1\n",
       "Tamil Nadu                   0\n",
       "Telangana                    0\n",
       "Tripura                      2\n",
       "Uttar Pradesh                1\n",
       "Uttarakhand                  1\n",
       "West Bengal1                 5\n",
       "Andaman & Nicobar Islands    2\n",
       "Chandigarh                   1\n",
       "Delhi                        0\n",
       "Puducherry                   0\n",
       "All_India GDP                0\n",
       "dtype: int64"
      ]
     },
     "execution_count": 53,
     "metadata": {},
     "output_type": "execute_result"
    }
   ],
   "source": [
    "percent_growth_df.isnull().sum()"
   ]
  },
  {
   "cell_type": "code",
   "execution_count": 55,
   "metadata": {},
   "outputs": [],
   "source": [
    "percent_growth_df.rename(columns = {\"West Bengal1\": \"West Bengal\"}, inplace = True)"
   ]
  },
  {
   "cell_type": "code",
   "execution_count": 56,
   "metadata": {},
   "outputs": [],
   "source": [
    "percent_growth_df.columns = percent_growth_df.columns.str.strip()"
   ]
  },
  {
   "cell_type": "code",
   "execution_count": 57,
   "metadata": {},
   "outputs": [
    {
     "name": "stdout",
     "output_type": "stream",
     "text": [
      "['Items  Description' 'Duration' 'Andhra Pradesh' 'Arunachal Pradesh'\n",
      " 'Assam' 'Bihar' 'Chhattisgarh' 'Goa' 'Gujarat' 'Haryana'\n",
      " 'Himachal Pradesh' 'Jammu & Kashmir' 'Jharkhand' 'Karnataka' 'Kerala'\n",
      " 'Madhya Pradesh' 'Maharashtra' 'Manipur' 'Meghalaya' 'Mizoram' 'Nagaland'\n",
      " 'Odisha' 'Punjab' 'Rajasthan' 'Sikkim' 'Tamil Nadu' 'Telangana' 'Tripura'\n",
      " 'Uttar Pradesh' 'Uttarakhand' 'West Bengal' 'Andaman & Nicobar Islands'\n",
      " 'Chandigarh' 'Delhi' 'Puducherry' 'All_India GDP']\n"
     ]
    }
   ],
   "source": [
    "print(percent_growth_df.columns.values)"
   ]
  },
  {
   "cell_type": "code",
   "execution_count": 58,
   "metadata": {},
   "outputs": [
    {
     "data": {
      "text/plain": [
       "<matplotlib.collections.PathCollection at 0x14ceab33ba8>"
      ]
     },
     "execution_count": 58,
     "metadata": {},
     "output_type": "execute_result"
    },
    {
     "data": {
      "image/png": "[encoded data removed]",
      "text/plain": [
       "<Figure size 432x288 with 1 Axes>"
      ]
     },
     "metadata": {
      "needs_background": "light"
     },
     "output_type": "display_data"
    }
   ],
   "source": [
    "plt.scatter(x = 'Duration', y = 'Andhra Pradesh', data = percent_growth_df)"
   ]
  },
  {
   "cell_type": "code",
   "execution_count": 59,
   "metadata": {},
   "outputs": [],
   "source": [
    "def duration_to_numeric(x):\n",
    "    if x=='2012-13':\n",
    "        return 1\n",
    "    if x=='2013-14':\n",
    "        return 2\n",
    "    if x=='2014-15':\n",
    "        return 3\n",
    "    if x=='2015-16':\n",
    "        return 4\n",
    "    if x=='2016-17':\n",
    "        return 5"
   ]
  },
  {
   "cell_type": "code",
   "execution_count": 125,
   "metadata": {},
   "outputs": [],
   "source": [
    "df_slope = pd.DataFrame(columns=['State', 'Slope'])"
   ]
  },
  {
   "cell_type": "code",
   "execution_count": 126,
   "metadata": {},
   "outputs": [],
   "source": [
    "df_AP = percent_growth_df[['Duration','Andhra Pradesh']]\n",
    "df_ArP = percent_growth_df[['Duration','Arunachal Pradesh']]\n",
    "df_Asm = percent_growth_df[['Duration','Assam']]\n",
    "df_Bi = percent_growth_df[['Duration','Bihar']]\n",
    "df_Ch = percent_growth_df[['Duration','Chhattisgarh']]\n",
    "df_G = percent_growth_df[['Duration','Goa']]\n",
    "df_Gj = percent_growth_df[['Duration','Gujarat']]\n",
    "df_Hr = percent_growth_df[['Duration','Haryana']]\n",
    "df_Jh = percent_growth_df[['Duration','Jharkhand']]\n",
    "df_Ka = percent_growth_df[['Duration','Karnataka']]\n",
    "df_Ke = percent_growth_df[['Duration','Kerala']]\n",
    "df_MP = percent_growth_df[['Duration','Madhya Pradesh']]\n",
    "df_Mh = percent_growth_df[['Duration','Maharashtra']]\n",
    "df_Ma = percent_growth_df[['Duration','Manipur']]\n",
    "df_Me = percent_growth_df[['Duration','Meghalaya']]\n",
    "df_Mi = percent_growth_df[['Duration','Mizoram']]\n",
    "df_Na = percent_growth_df[['Duration','Nagaland']]\n",
    "df_Od = percent_growth_df[['Duration','Odisha']]\n",
    "df_Pu = percent_growth_df[['Duration','Punjab']]\n",
    "df_Rj = percent_growth_df[['Duration','Rajasthan']]\n",
    "df_Sk = percent_growth_df[['Duration','Sikkim']]\n",
    "df_Tn = percent_growth_df[['Duration','Tamil Nadu']]\n",
    "df_Ts = percent_growth_df[['Duration','Telangana']]\n",
    "df_Tr = percent_growth_df[['Duration','Tripura']]\n",
    "df_UP = percent_growth_df[['Duration','Uttar Pradesh']]\n",
    "df_Uk = percent_growth_df[['Duration','Uttarakhand']]\n",
    "df_Wb = percent_growth_df[['Duration','West Bengal']]"
   ]
  },
  {
   "cell_type": "markdown",
   "metadata": {},
   "source": [
    "Andhra Pradesh"
   ]
  },
  {
   "cell_type": "code",
   "execution_count": 127,
   "metadata": {},
   "outputs": [
    {
     "data": {
      "image/png": "[encoded data removed]",
      "text/plain": [
       "<Figure size 432x288 with 1 Axes>"
      ]
     },
     "metadata": {
      "needs_background": "light"
     },
     "output_type": "display_data"
    }
   ],
   "source": [
    "df_AP = df_AP.dropna()\n",
    "m, c = np.polyfit(percent_growth_df['Duration'].apply(duration_to_numeric), percent_growth_df['Andhra Pradesh'], 1)\n",
    "plt.scatter(x = 'Duration', y = 'Andhra Pradesh', data = percent_growth_df)\n",
    "plt.plot(percent_growth_df['Duration'], m*percent_growth_df['Duration'].apply(duration_to_numeric)+c, '--r')\n",
    "df_slope = df_slope.append({'State': 'Andhra Pradesh', 'Slope': m}, ignore_index=True)"
   ]
  },
  {
   "cell_type": "markdown",
   "metadata": {},
   "source": [
    "Arunachal Pradesh"
   ]
  },
  {
   "cell_type": "code",
   "execution_count": 128,
   "metadata": {},
   "outputs": [
    {
     "data": {
      "image/png": "[encoded data removed]",
      "text/plain": [
       "<Figure size 432x288 with 1 Axes>"
      ]
     },
     "metadata": {
      "needs_background": "light"
     },
     "output_type": "display_data"
    }
   ],
   "source": [
    "df_ArP = df_ArP.dropna()\n",
    "m, c = np.polyfit(df_ArP['Duration'].apply(duration_to_numeric), df_ArP['Arunachal Pradesh'], 1)\n",
    "plt.scatter(x = 'Duration', y = 'Arunachal Pradesh', data = df_ArP)\n",
    "plt.plot(df_ArP['Duration'], m*df_ArP['Duration'].apply(duration_to_numeric)+c, '--r')\n",
    "df_slope = df_slope.append({'State': 'Arunachal Pradesh', 'Slope': m}, ignore_index=True)"
   ]
  },
  {
   "cell_type": "markdown",
   "metadata": {},
   "source": [
    "Assam"
   ]
  },
  {
   "cell_type": "code",
   "execution_count": 129,
   "metadata": {},
   "outputs": [
    {
     "data": {
      "image/png": "[encoded data removed]",
      "text/plain": [
       "<Figure size 432x288 with 1 Axes>"
      ]
     },
     "metadata": {
      "needs_background": "light"
     },
     "output_type": "display_data"
    }
   ],
   "source": [
    "df_Asm = df_Asm.dropna()\n",
    "m, c = np.polyfit(df_Asm['Duration'].apply(duration_to_numeric), df_Asm['Assam'], 1)\n",
    "plt.scatter(x = 'Duration', y = 'Assam', data = df_Asm)\n",
    "plt.plot(df_Asm['Duration'], m*df_Asm['Duration'].apply(duration_to_numeric)+c, '--r')\n",
    "df_slope = df_slope.append({'State': 'Assam', 'Slope': m}, ignore_index=True)"
   ]
  },
  {
   "cell_type": "markdown",
   "metadata": {},
   "source": [
    "Bihar"
   ]
  },
  {
   "cell_type": "code",
   "execution_count": 131,
   "metadata": {},
   "outputs": [
    {
     "data": {
      "image/png": "[encoded data removed]",
      "text/plain": [
       "<Figure size 432x288 with 1 Axes>"
      ]
     },
     "metadata": {
      "needs_background": "light"
     },
     "output_type": "display_data"
    }
   ],
   "source": [
    "df_Bi = df_Bi.dropna()\n",
    "m, c = np.polyfit(df_Bi['Duration'].apply(duration_to_numeric), df_Bi['Bihar'], 1)\n",
    "plt.scatter(x = 'Duration', y = 'Bihar', data = df_Bi)\n",
    "plt.plot(df_Bi['Duration'], m*df_Bi['Duration'].apply(duration_to_numeric)+c, '--r')\n",
    "df_slope = df_slope.append({'State': 'Bihar', 'Slope': m}, ignore_index=True)"
   ]
  },
  {
   "cell_type": "markdown",
   "metadata": {},
   "source": [
    "Chhattisgarh"
   ]
  },
  {
   "cell_type": "code",
   "execution_count": 132,
   "metadata": {},
   "outputs": [
    {
     "data": {
      "image/png": "[encoded data removed]",
      "text/plain": [
       "<Figure size 432x288 with 1 Axes>"
      ]
     },
     "metadata": {
      "needs_background": "light"
     },
     "output_type": "display_data"
    }
   ],
   "source": [
    "df_Ch = df_Ch.dropna()\n",
    "m, c = np.polyfit(df_Ch['Duration'].apply(duration_to_numeric), df_Ch['Chhattisgarh'], 1)\n",
    "plt.scatter(x = 'Duration', y = 'Chhattisgarh', data = df_Ch)\n",
    "plt.plot(df_Ch['Duration'], m*df_Ch['Duration'].apply(duration_to_numeric)+c, '--r')\n",
    "df_slope = df_slope.append({'State': 'Chhattisgarh', 'Slope': m}, ignore_index=True)"
   ]
  },
  {
   "cell_type": "markdown",
   "metadata": {},
   "source": [
    "Goa"
   ]
  },
  {
   "cell_type": "code",
   "execution_count": 133,
   "metadata": {},
   "outputs": [
    {
     "data": {
      "image/png": "[encoded data removed]",
      "text/plain": [
       "<Figure size 432x288 with 1 Axes>"
      ]
     },
     "metadata": {
      "needs_background": "light"
     },
     "output_type": "display_data"
    }
   ],
   "source": [
    "df_G = df_G.dropna()\n",
    "m, c = np.polyfit(df_G['Duration'].apply(duration_to_numeric), df_G['Goa'], 1)\n",
    "plt.scatter(x = 'Duration', y = 'Goa', data = df_G)\n",
    "plt.plot(df_G['Duration'], m*df_G['Duration'].apply(duration_to_numeric)+c, '--r')\n",
    "df_slope = df_slope.append({'State': 'Goa', 'Slope': m}, ignore_index=True)"
   ]
  },
  {
   "cell_type": "markdown",
   "metadata": {},
   "source": [
    "Gujarat"
   ]
  },
  {
   "cell_type": "code",
   "execution_count": 134,
   "metadata": {},
   "outputs": [
    {
     "data": {
      "image/png": "[encoded data removed]",
      "text/plain": [
       "<Figure size 432x288 with 1 Axes>"
      ]
     },
     "metadata": {
      "needs_background": "light"
     },
     "output_type": "display_data"
    }
   ],
   "source": [
    "df_Gj = df_Gj.dropna()\n",
    "m, c = np.polyfit(df_Gj['Duration'].apply(duration_to_numeric), df_Gj['Gujarat'], 1)\n",
    "plt.scatter(x = 'Duration', y = 'Gujarat', data = df_Gj)\n",
    "plt.plot(df_Gj['Duration'], m*df_Gj['Duration'].apply(duration_to_numeric)+c, '--r')\n",
    "df_slope = df_slope.append({'State': 'Gujarat', 'Slope': m}, ignore_index=True)"
   ]
  },
  {
   "cell_type": "markdown",
   "metadata": {},
   "source": [
    "Haryana"
   ]
  },
  {
   "cell_type": "code",
   "execution_count": 196,
   "metadata": {},
   "outputs": [
    {
     "data": {
      "image/png": "[encoded data removed]",
      "text/plain": [
       "<Figure size 640x480 with 1 Axes>"
      ]
     },
     "metadata": {},
     "output_type": "display_data"
    }
   ],
   "source": [
    "df_Hr = df_Hr.dropna()\n",
    "m, c = np.polyfit(df_Hr['Duration'].apply(duration_to_numeric), df_Hr['Haryana'], 1)\n",
    "plt.scatter(x = 'Duration', y = 'Haryana', data = df_Hr)\n",
    "plt.plot(df_Hr['Duration'], m*df_Hr['Duration'].apply(duration_to_numeric)+c, '--r')\n",
    "df_slope = df_slope.append({'State': 'Haryana', 'Slope': m}, ignore_index=True)"
   ]
  },
  {
   "cell_type": "markdown",
   "metadata": {},
   "source": [
    "Jharkhand"
   ]
  },
  {
   "cell_type": "code",
   "execution_count": 136,
   "metadata": {},
   "outputs": [
    {
     "data": {
      "image/png": "[encoded data removed]",
      "text/plain": [
       "<Figure size 432x288 with 1 Axes>"
      ]
     },
     "metadata": {
      "needs_background": "light"
     },
     "output_type": "display_data"
    }
   ],
   "source": [
    "df_Jh = df_Jh.dropna()\n",
    "m, c = np.polyfit(df_Jh['Duration'].apply(duration_to_numeric), df_Jh['Jharkhand'], 1)\n",
    "plt.scatter(x = 'Duration', y = 'Jharkhand', data = df_Jh)\n",
    "plt.plot(df_Jh['Duration'], m*df_Jh['Duration'].apply(duration_to_numeric)+c, '--r')\n",
    "df_slope = df_slope.append({'State': 'Jharkhand', 'Slope': m}, ignore_index=True)"
   ]
  },
  {
   "cell_type": "markdown",
   "metadata": {},
   "source": [
    "Karnataka"
   ]
  },
  {
   "cell_type": "code",
   "execution_count": 137,
   "metadata": {},
   "outputs": [
    {
     "data": {
      "image/png": "[encoded data removed]",
      "text/plain": [
       "<Figure size 432x288 with 1 Axes>"
      ]
     },
     "metadata": {
      "needs_background": "light"
     },
     "output_type": "display_data"
    }
   ],
   "source": [
    "df_Ka = df_Ka.dropna()\n",
    "m, c = np.polyfit(df_Ka['Duration'].apply(duration_to_numeric), df_Ka['Karnataka'], 1)\n",
    "plt.scatter(x = 'Duration', y = 'Karnataka', data = df_Ka)\n",
    "plt.plot(df_Ka['Duration'], m*df_Ka['Duration'].apply(duration_to_numeric)+c, '--r')\n",
    "df_slope = df_slope.append({'State': 'Karnataka', 'Slope': m}, ignore_index=True)"
   ]
  },
  {
   "cell_type": "markdown",
   "metadata": {},
   "source": [
    "Kerala"
   ]
  },
  {
   "cell_type": "code",
   "execution_count": 138,
   "metadata": {},
   "outputs": [
    {
     "data": {
      "image/png": "[encoded data removed]",
      "text/plain": [
       "<Figure size 432x288 with 1 Axes>"
      ]
     },
     "metadata": {
      "needs_background": "light"
     },
     "output_type": "display_data"
    }
   ],
   "source": [
    "df_Ke = df_Ke.dropna()\n",
    "m, c = np.polyfit(df_Ke['Duration'].apply(duration_to_numeric), df_Ke['Kerala'], 1)\n",
    "plt.scatter(x = 'Duration', y = 'Kerala', data = df_Ke)\n",
    "plt.plot(df_Ke['Duration'], m*df_Ke['Duration'].apply(duration_to_numeric)+c, '--r')\n",
    "df_slope = df_slope.append({'State': 'Kerala', 'Slope': m}, ignore_index=True)"
   ]
  },
  {
   "cell_type": "markdown",
   "metadata": {},
   "source": [
    "Madhya Pradesh"
   ]
  },
  {
   "cell_type": "code",
   "execution_count": 139,
   "metadata": {},
   "outputs": [
    {
     "data": {
      "image/png": "[encoded data removed]",
      "text/plain": [
       "<Figure size 432x288 with 1 Axes>"
      ]
     },
     "metadata": {
      "needs_background": "light"
     },
     "output_type": "display_data"
    }
   ],
   "source": [
    "df_MP = df_MP.dropna()\n",
    "m, c = np.polyfit(df_MP['Duration'].apply(duration_to_numeric), df_MP['Madhya Pradesh'], 1)\n",
    "plt.scatter(x = 'Duration', y = 'Madhya Pradesh', data = df_MP)\n",
    "plt.plot(df_MP['Duration'], m*df_MP['Duration'].apply(duration_to_numeric)+c, '--r')\n",
    "df_slope = df_slope.append({'State': 'Madhya Pradesh', 'Slope': m}, ignore_index=True)"
   ]
  },
  {
   "cell_type": "markdown",
   "metadata": {},
   "source": [
    "Maharashtra"
   ]
  },
  {
   "cell_type": "code",
   "execution_count": 140,
   "metadata": {},
   "outputs": [
    {
     "data": {
      "image/png": "[encoded data removed]",
      "text/plain": [
       "<Figure size 432x288 with 1 Axes>"
      ]
     },
     "metadata": {
      "needs_background": "light"
     },
     "output_type": "display_data"
    }
   ],
   "source": [
    "df_Mh = df_Mh.dropna()\n",
    "m, c = np.polyfit(df_Mh['Duration'].apply(duration_to_numeric), df_Mh['Maharashtra'], 1)\n",
    "plt.scatter(x = 'Duration', y = 'Maharashtra', data = df_Mh)\n",
    "plt.plot(df_Mh['Duration'], m*df_Mh['Duration'].apply(duration_to_numeric)+c, '--r')\n",
    "df_slope = df_slope.append({'State': 'Maharashtra', 'Slope': m}, ignore_index=True)"
   ]
  },
  {
   "cell_type": "markdown",
   "metadata": {},
   "source": [
    "Manipur"
   ]
  },
  {
   "cell_type": "code",
   "execution_count": 141,
   "metadata": {},
   "outputs": [
    {
     "data": {
      "image/png": "[encoded data removed]",
      "text/plain": [
       "<Figure size 432x288 with 1 Axes>"
      ]
     },
     "metadata": {
      "needs_background": "light"
     },
     "output_type": "display_data"
    }
   ],
   "source": [
    "df_Ma = df_Ma.dropna()\n",
    "m, c = np.polyfit(df_Ma['Duration'].apply(duration_to_numeric), df_Ma['Manipur'], 1)\n",
    "plt.scatter(x = 'Duration', y = 'Manipur', data = df_Ma)\n",
    "plt.plot(df_Ma['Duration'], m*df_Ma['Duration'].apply(duration_to_numeric)+c, '--r')\n",
    "df_slope = df_slope.append({'State': 'Manipur', 'Slope': m}, ignore_index=True)"
   ]
  },
  {
   "cell_type": "markdown",
   "metadata": {},
   "source": [
    "Meghalaya"
   ]
  },
  {
   "cell_type": "code",
   "execution_count": 142,
   "metadata": {},
   "outputs": [
    {
     "data": {
      "image/png": "[encoded data removed]",
      "text/plain": [
       "<Figure size 432x288 with 1 Axes>"
      ]
     },
     "metadata": {
      "needs_background": "light"
     },
     "output_type": "display_data"
    }
   ],
   "source": [
    "df_Me = df_Me.dropna()\n",
    "m, c = np.polyfit(df_Me['Duration'].apply(duration_to_numeric), df_Me['Meghalaya'], 1)\n",
    "plt.scatter(x = 'Duration', y = 'Meghalaya', data = df_Me)\n",
    "plt.plot(df_Me['Duration'], m*df_Me['Duration'].apply(duration_to_numeric)+c, '--r')\n",
    "df_slope = df_slope.append({'State': 'Meghalaya', 'Slope': m}, ignore_index=True)"
   ]
  },
  {
   "cell_type": "markdown",
   "metadata": {},
   "source": [
    "Mizoram"
   ]
  },
  {
   "cell_type": "code",
   "execution_count": 143,
   "metadata": {},
   "outputs": [
    {
     "data": {
      "image/png": "[encoded data removed]",
      "text/plain": [
       "<Figure size 432x288 with 1 Axes>"
      ]
     },
     "metadata": {
      "needs_background": "light"
     },
     "output_type": "display_data"
    }
   ],
   "source": [
    "df_Mi = df_Mi.dropna()\n",
    "m, c = np.polyfit(df_Mi['Duration'].apply(duration_to_numeric), df_Mi['Mizoram'], 1)\n",
    "plt.scatter(x = 'Duration', y = 'Mizoram', data = df_Mi)\n",
    "plt.plot(df_Mi['Duration'], m*df_Mi['Duration'].apply(duration_to_numeric)+c, '--r')\n",
    "df_slope = df_slope.append({'State': 'Mizoram', 'Slope': m}, ignore_index=True)"
   ]
  },
  {
   "cell_type": "markdown",
   "metadata": {},
   "source": [
    "Nagaland"
   ]
  },
  {
   "cell_type": "code",
   "execution_count": 144,
   "metadata": {},
   "outputs": [
    {
     "data": {
      "image/png": "[encoded data removed]",
      "text/plain": [
       "<Figure size 432x288 with 1 Axes>"
      ]
     },
     "metadata": {
      "needs_background": "light"
     },
     "output_type": "display_data"
    }
   ],
   "source": [
    "df_Na = df_Na.dropna()\n",
    "m, c = np.polyfit(df_Na['Duration'].apply(duration_to_numeric), df_Na['Nagaland'], 1)\n",
    "plt.scatter(x = 'Duration', y = 'Nagaland', data = df_Na)\n",
    "plt.plot(df_Na['Duration'], m*df_Na['Duration'].apply(duration_to_numeric)+c, '--r')\n",
    "df_slope = df_slope.append({'State': 'Nagaland', 'Slope': m}, ignore_index=True)"
   ]
  },
  {
   "cell_type": "markdown",
   "metadata": {},
   "source": [
    "Odisha"
   ]
  },
  {
   "cell_type": "code",
   "execution_count": 145,
   "metadata": {},
   "outputs": [
    {
     "data": {
      "image/png": "[encoded data removed]",
      "text/plain": [
       "<Figure size 432x288 with 1 Axes>"
      ]
     },
     "metadata": {
      "needs_background": "light"
     },
     "output_type": "display_data"
    }
   ],
   "source": [
    "df_Od = df_Od.dropna()\n",
    "m, c = np.polyfit(df_Od['Duration'].apply(duration_to_numeric), df_Od['Odisha'], 1)\n",
    "plt.scatter(x = 'Duration', y = 'Odisha', data = df_Od)\n",
    "plt.plot(df_Od['Duration'], m*df_Od['Duration'].apply(duration_to_numeric)+c, '--r')\n",
    "df_slope = df_slope.append({'State': 'Odisha', 'Slope': m}, ignore_index=True)"
   ]
  },
  {
   "cell_type": "markdown",
   "metadata": {},
   "source": [
    "Punjab"
   ]
  },
  {
   "cell_type": "code",
   "execution_count": 146,
   "metadata": {},
   "outputs": [
    {
     "data": {
      "image/png": "[encoded data removed]",
      "text/plain": [
       "<Figure size 432x288 with 1 Axes>"
      ]
     },
     "metadata": {
      "needs_background": "light"
     },
     "output_type": "display_data"
    }
   ],
   "source": [
    "df_Pu = df_Pu.dropna()\n",
    "m, c = np.polyfit(df_Pu['Duration'].apply(duration_to_numeric), df_Pu['Punjab'], 1)\n",
    "plt.scatter(x = 'Duration', y = 'Punjab', data = df_Pu)\n",
    "plt.plot(df_Pu['Duration'], m*df_Pu['Duration'].apply(duration_to_numeric)+c, '--r')\n",
    "df_slope = df_slope.append({'State': 'Punjab', 'Slope': m}, ignore_index=True)"
   ]
  },
  {
   "cell_type": "markdown",
   "metadata": {},
   "source": [
    "Rajasthan"
   ]
  },
  {
   "cell_type": "code",
   "execution_count": 147,
   "metadata": {},
   "outputs": [
    {
     "data": {
      "image/png": "[encoded data removed]",
      "text/plain": [
       "<Figure size 432x288 with 1 Axes>"
      ]
     },
     "metadata": {
      "needs_background": "light"
     },
     "output_type": "display_data"
    }
   ],
   "source": [
    "df_Rj = df_Rj.dropna()\n",
    "m, c = np.polyfit(df_Rj['Duration'].apply(duration_to_numeric), df_Rj['Rajasthan'], 1)\n",
    "plt.scatter(x = 'Duration', y = 'Rajasthan', data = df_Rj)\n",
    "plt.plot(df_Rj['Duration'], m*df_Rj['Duration'].apply(duration_to_numeric)+c, '--r')\n",
    "df_slope = df_slope.append({'State': 'Rajasthan', 'Slope': m}, ignore_index=True)"
   ]
  },
  {
   "cell_type": "markdown",
   "metadata": {},
   "source": [
    "Sikkim"
   ]
  },
  {
   "cell_type": "code",
   "execution_count": 148,
   "metadata": {},
   "outputs": [
    {
     "data": {
      "image/png": "[encoded data removed]",
      "text/plain": [
       "<Figure size 432x288 with 1 Axes>"
      ]
     },
     "metadata": {
      "needs_background": "light"
     },
     "output_type": "display_data"
    }
   ],
   "source": [
    "df_Sk = df_Sk.dropna()\n",
    "m, c = np.polyfit(df_Sk['Duration'].apply(duration_to_numeric), df_Sk['Sikkim'], 1)\n",
    "plt.scatter(x = 'Duration', y = 'Sikkim', data = df_Sk)\n",
    "plt.plot(df_Sk['Duration'], m*df_Sk['Duration'].apply(duration_to_numeric)+c, '--r')\n",
    "df_slope = df_slope.append({'State': 'Sikkim', 'Slope': m}, ignore_index=True)"
   ]
  },
  {
   "cell_type": "markdown",
   "metadata": {},
   "source": [
    "Tamil Nadu"
   ]
  },
  {
   "cell_type": "code",
   "execution_count": 149,
   "metadata": {},
   "outputs": [
    {
     "data": {
      "image/png": "[encoded data removed]",
      "text/plain": [
       "<Figure size 432x288 with 1 Axes>"
      ]
     },
     "metadata": {
      "needs_background": "light"
     },
     "output_type": "display_data"
    }
   ],
   "source": [
    "df_Tn = df_Tn.dropna()\n",
    "m, c = np.polyfit(df_Tn['Duration'].apply(duration_to_numeric), df_Tn['Tamil Nadu'], 1)\n",
    "plt.scatter(x = 'Duration', y = 'Tamil Nadu', data = df_Tn)\n",
    "plt.plot(df_Tn['Duration'], m*df_Tn['Duration'].apply(duration_to_numeric)+c, '--r')\n",
    "df_slope = df_slope.append({'State': 'Tamil Nadu', 'Slope': m}, ignore_index=True)"
   ]
  },
  {
   "cell_type": "markdown",
   "metadata": {},
   "source": [
    "Telangana"
   ]
  },
  {
   "cell_type": "code",
   "execution_count": 150,
   "metadata": {},
   "outputs": [
    {
     "data": {
      "image/png": "[encoded data removed]",
      "text/plain": [
       "<Figure size 432x288 with 1 Axes>"
      ]
     },
     "metadata": {
      "needs_background": "light"
     },
     "output_type": "display_data"
    }
   ],
   "source": [
    "df_Ts = df_Ts.dropna()\n",
    "m, c = np.polyfit(df_Ts['Duration'].apply(duration_to_numeric), df_Ts['Telangana'], 1)\n",
    "plt.scatter(x = 'Duration', y = 'Telangana', data = df_Ts)\n",
    "plt.plot(df_Ts['Duration'], m*df_Ts['Duration'].apply(duration_to_numeric)+c, '--r')\n",
    "df_slope = df_slope.append({'State': 'Telangana', 'Slope': m}, ignore_index=True)"
   ]
  },
  {
   "cell_type": "markdown",
   "metadata": {},
   "source": [
    "Tripura"
   ]
  },
  {
   "cell_type": "code",
   "execution_count": 151,
   "metadata": {},
   "outputs": [
    {
     "data": {
      "image/png": "[encoded data removed]",
      "text/plain": [
       "<Figure size 432x288 with 1 Axes>"
      ]
     },
     "metadata": {
      "needs_background": "light"
     },
     "output_type": "display_data"
    }
   ],
   "source": [
    "df_Tr = df_Tr.dropna()\n",
    "m, c = np.polyfit(df_Tr['Duration'].apply(duration_to_numeric), df_Tr['Tripura'], 1)\n",
    "plt.scatter(x = 'Duration', y = 'Tripura', data = df_Tr)\n",
    "plt.plot(df_Tr['Duration'], m*df_Tr['Duration'].apply(duration_to_numeric)+c, '--r')\n",
    "df_slope = df_slope.append({'State': 'Tripura', 'Slope': m}, ignore_index=True)"
   ]
  },
  {
   "cell_type": "markdown",
   "metadata": {},
   "source": [
    "Uttar Pradesh"
   ]
  },
  {
   "cell_type": "code",
   "execution_count": 152,
   "metadata": {},
   "outputs": [
    {
     "data": {
      "image/png": "[encoded data removed]",
      "text/plain": [
       "<Figure size 432x288 with 1 Axes>"
      ]
     },
     "metadata": {
      "needs_background": "light"
     },
     "output_type": "display_data"
    }
   ],
   "source": [
    "df_UP = df_UP.dropna()\n",
    "m, c = np.polyfit(df_UP['Duration'].apply(duration_to_numeric), df_UP['Uttar Pradesh'], 1)\n",
    "plt.scatter(x = 'Duration', y = 'Uttar Pradesh', data = df_UP)\n",
    "plt.plot(df_UP['Duration'], m*df_UP['Duration'].apply(duration_to_numeric)+c, '--r')\n",
    "df_slope = df_slope.append({'State': 'Uttar Pradesh', 'Slope': m}, ignore_index=True)"
   ]
  },
  {
   "cell_type": "markdown",
   "metadata": {},
   "source": [
    "Uttarakhand"
   ]
  },
  {
   "cell_type": "code",
   "execution_count": 153,
   "metadata": {},
   "outputs": [
    {
     "data": {
      "image/png": "[encoded data removed]",
      "text/plain": [
       "<Figure size 432x288 with 1 Axes>"
      ]
     },
     "metadata": {
      "needs_background": "light"
     },
     "output_type": "display_data"
    }
   ],
   "source": [
    "df_Uk = df_Uk.dropna()\n",
    "m, c = np.polyfit(df_Uk['Duration'].apply(duration_to_numeric), df_Uk['Uttarakhand'], 1)\n",
    "plt.scatter(x = 'Duration', y = 'Uttarakhand', data = df_Uk)\n",
    "plt.plot(df_Uk['Duration'], m*df_Uk['Duration'].apply(duration_to_numeric)+c, '--r')\n",
    "df_slope = df_slope.append({'State': 'Uttarakhand', 'Slope': m}, ignore_index=True)"
   ]
  },
  {
   "cell_type": "code",
   "execution_count": 116,
   "metadata": {},
   "outputs": [
    {
     "data": {
      "text/html": [
       "<div>\n",
       "<style scoped>\n",
       "    .dataframe tbody tr th:only-of-type {\n",
       "        vertical-align: middle;\n",
       "    }\n",
       "\n",
       "    .dataframe tbody tr th {\n",
       "        vertical-align: top;\n",
       "    }\n",
       "\n",
       "    .dataframe thead th {\n",
       "        text-align: right;\n",
       "    }\n",
       "</style>\n",
       "<table border=\"1\" class=\"dataframe\">\n",
       "  <thead>\n",
       "    <tr style=\"text-align: right;\">\n",
       "      <th></th>\n",
       "      <th>Duration</th>\n",
       "      <th>West Bengal</th>\n",
       "    </tr>\n",
       "  </thead>\n",
       "  <tbody>\n",
       "    <tr>\n",
       "      <th>6</th>\n",
       "      <td>2012-13</td>\n",
       "      <td>NaN</td>\n",
       "    </tr>\n",
       "    <tr>\n",
       "      <th>7</th>\n",
       "      <td>2013-14</td>\n",
       "      <td>NaN</td>\n",
       "    </tr>\n",
       "    <tr>\n",
       "      <th>8</th>\n",
       "      <td>2014-15</td>\n",
       "      <td>NaN</td>\n",
       "    </tr>\n",
       "    <tr>\n",
       "      <th>9</th>\n",
       "      <td>2015-16</td>\n",
       "      <td>NaN</td>\n",
       "    </tr>\n",
       "    <tr>\n",
       "      <th>10</th>\n",
       "      <td>2016-17</td>\n",
       "      <td>NaN</td>\n",
       "    </tr>\n",
       "  </tbody>\n",
       "</table>\n",
       "</div>"
      ],
      "text/plain": [
       "   Duration  West Bengal\n",
       "6   2012-13          NaN\n",
       "7   2013-14          NaN\n",
       "8   2014-15          NaN\n",
       "9   2015-16          NaN\n",
       "10  2016-17          NaN"
      ]
     },
     "execution_count": 116,
     "metadata": {},
     "output_type": "execute_result"
    }
   ],
   "source": [
    "df_Wb #no data available"
   ]
  },
  {
   "cell_type": "code",
   "execution_count": 154,
   "metadata": {},
   "outputs": [
    {
     "data": {
      "image/png": "[encoded data removed]",
      "text/plain": [
       "<Figure size 432x288 with 1 Axes>"
      ]
     },
     "metadata": {
      "needs_background": "light"
     },
     "output_type": "display_data"
    }
   ],
   "source": [
    "df_India = percent_growth_df[['Duration','All_India GDP']]\n",
    "df_India = df_India.dropna()\n",
    "m, c = np.polyfit(df_India['Duration'].apply(duration_to_numeric), df_India['All_India GDP'], 1)\n",
    "plt.scatter(x = 'Duration', y = 'All_India GDP', data = df_India)\n",
    "plt.plot(df_India['Duration'], m*df_India['Duration'].apply(duration_to_numeric)+c, '--r')\n",
    "df_slope = df_slope.append({'State': 'All_India GDP', 'Slope': m}, ignore_index=True)"
   ]
  },
  {
   "cell_type": "markdown",
   "metadata": {},
   "source": [
    "## How will you compare the growth rates of any two states?\n",
    "\n",
    "Growth rates can be compared by looking at the slopes of the graphs plotted above. Also if we have enough data we can also compare the mean of the growth rates"
   ]
  },
  {
   "cell_type": "markdown",
   "metadata": {},
   "source": [
    "## Which states have been growing consistently fast, and which ones have been struggling?"
   ]
  },
  {
   "cell_type": "code",
   "execution_count": 155,
   "metadata": {},
   "outputs": [
    {
     "data": {
      "text/html": [
       "<div>\n",
       "<style scoped>\n",
       "    .dataframe tbody tr th:only-of-type {\n",
       "        vertical-align: middle;\n",
       "    }\n",
       "\n",
       "    .dataframe tbody tr th {\n",
       "        vertical-align: top;\n",
       "    }\n",
       "\n",
       "    .dataframe thead th {\n",
       "        text-align: right;\n",
       "    }\n",
       "</style>\n",
       "<table border=\"1\" class=\"dataframe\">\n",
       "  <thead>\n",
       "    <tr style=\"text-align: right;\">\n",
       "      <th></th>\n",
       "      <th>State</th>\n",
       "      <th>Slope</th>\n",
       "    </tr>\n",
       "  </thead>\n",
       "  <tbody>\n",
       "    <tr>\n",
       "      <th>0</th>\n",
       "      <td>Andhra Pradesh</td>\n",
       "      <td>1.544</td>\n",
       "    </tr>\n",
       "    <tr>\n",
       "      <th>1</th>\n",
       "      <td>Arunachal Pradesh</td>\n",
       "      <td>-0.561</td>\n",
       "    </tr>\n",
       "    <tr>\n",
       "      <th>2</th>\n",
       "      <td>Assam</td>\n",
       "      <td>0.903</td>\n",
       "    </tr>\n",
       "    <tr>\n",
       "      <th>3</th>\n",
       "      <td>Bihar</td>\n",
       "      <td>-0.536</td>\n",
       "    </tr>\n",
       "    <tr>\n",
       "      <th>4</th>\n",
       "      <td>Chhattisgarh</td>\n",
       "      <td>-0.754</td>\n",
       "    </tr>\n",
       "    <tr>\n",
       "      <th>5</th>\n",
       "      <td>Goa</td>\n",
       "      <td>8.120</td>\n",
       "    </tr>\n",
       "    <tr>\n",
       "      <th>6</th>\n",
       "      <td>Gujarat</td>\n",
       "      <td>-2.045</td>\n",
       "    </tr>\n",
       "    <tr>\n",
       "      <th>7</th>\n",
       "      <td>Haryana</td>\n",
       "      <td>-1.216</td>\n",
       "    </tr>\n",
       "    <tr>\n",
       "      <th>8</th>\n",
       "      <td>Jharkhand</td>\n",
       "      <td>-0.577</td>\n",
       "    </tr>\n",
       "    <tr>\n",
       "      <th>9</th>\n",
       "      <td>Karnataka</td>\n",
       "      <td>-1.496</td>\n",
       "    </tr>\n",
       "    <tr>\n",
       "      <th>10</th>\n",
       "      <td>Kerala</td>\n",
       "      <td>-0.391</td>\n",
       "    </tr>\n",
       "    <tr>\n",
       "      <th>11</th>\n",
       "      <td>Madhya Pradesh</td>\n",
       "      <td>-0.799</td>\n",
       "    </tr>\n",
       "    <tr>\n",
       "      <th>12</th>\n",
       "      <td>Maharashtra</td>\n",
       "      <td>-2.505</td>\n",
       "    </tr>\n",
       "    <tr>\n",
       "      <th>13</th>\n",
       "      <td>Manipur</td>\n",
       "      <td>2.470</td>\n",
       "    </tr>\n",
       "    <tr>\n",
       "      <th>14</th>\n",
       "      <td>Meghalaya</td>\n",
       "      <td>0.619</td>\n",
       "    </tr>\n",
       "    <tr>\n",
       "      <th>15</th>\n",
       "      <td>Mizoram</td>\n",
       "      <td>-1.450</td>\n",
       "    </tr>\n",
       "    <tr>\n",
       "      <th>16</th>\n",
       "      <td>Nagaland</td>\n",
       "      <td>-2.090</td>\n",
       "    </tr>\n",
       "    <tr>\n",
       "      <th>17</th>\n",
       "      <td>Odisha</td>\n",
       "      <td>-1.174</td>\n",
       "    </tr>\n",
       "    <tr>\n",
       "      <th>18</th>\n",
       "      <td>Punjab</td>\n",
       "      <td>-0.860</td>\n",
       "    </tr>\n",
       "    <tr>\n",
       "      <th>19</th>\n",
       "      <td>Rajasthan</td>\n",
       "      <td>-0.905</td>\n",
       "    </tr>\n",
       "    <tr>\n",
       "      <th>20</th>\n",
       "      <td>Sikkim</td>\n",
       "      <td>-0.599</td>\n",
       "    </tr>\n",
       "    <tr>\n",
       "      <th>21</th>\n",
       "      <td>Tamil Nadu</td>\n",
       "      <td>-0.940</td>\n",
       "    </tr>\n",
       "    <tr>\n",
       "      <th>22</th>\n",
       "      <td>Telangana</td>\n",
       "      <td>0.392</td>\n",
       "    </tr>\n",
       "    <tr>\n",
       "      <th>23</th>\n",
       "      <td>Tripura</td>\n",
       "      <td>1.570</td>\n",
       "    </tr>\n",
       "    <tr>\n",
       "      <th>24</th>\n",
       "      <td>Uttar Pradesh</td>\n",
       "      <td>-1.343</td>\n",
       "    </tr>\n",
       "    <tr>\n",
       "      <th>25</th>\n",
       "      <td>Uttarakhand</td>\n",
       "      <td>-0.693</td>\n",
       "    </tr>\n",
       "    <tr>\n",
       "      <th>26</th>\n",
       "      <td>All_India GDP</td>\n",
       "      <td>-0.766</td>\n",
       "    </tr>\n",
       "  </tbody>\n",
       "</table>\n",
       "</div>"
      ],
      "text/plain": [
       "                State  Slope\n",
       "0      Andhra Pradesh  1.544\n",
       "1   Arunachal Pradesh -0.561\n",
       "2               Assam  0.903\n",
       "3               Bihar -0.536\n",
       "4        Chhattisgarh -0.754\n",
       "5                 Goa  8.120\n",
       "6             Gujarat -2.045\n",
       "7             Haryana -1.216\n",
       "8           Jharkhand -0.577\n",
       "9           Karnataka -1.496\n",
       "10             Kerala -0.391\n",
       "11     Madhya Pradesh -0.799\n",
       "12        Maharashtra -2.505\n",
       "13            Manipur  2.470\n",
       "14          Meghalaya  0.619\n",
       "15            Mizoram -1.450\n",
       "16           Nagaland -2.090\n",
       "17             Odisha -1.174\n",
       "18             Punjab -0.860\n",
       "19          Rajasthan -0.905\n",
       "20             Sikkim -0.599\n",
       "21         Tamil Nadu -0.940\n",
       "22          Telangana  0.392\n",
       "23            Tripura  1.570\n",
       "24      Uttar Pradesh -1.343\n",
       "25        Uttarakhand -0.693\n",
       "26      All_India GDP -0.766"
      ]
     },
     "execution_count": 155,
     "metadata": {},
     "output_type": "execute_result"
    }
   ],
   "source": [
    "df_slope"
   ]
  },
  {
   "cell_type": "code",
   "execution_count": 156,
   "metadata": {},
   "outputs": [
    {
     "data": {
      "text/html": [
       "<div>\n",
       "<style scoped>\n",
       "    .dataframe tbody tr th:only-of-type {\n",
       "        vertical-align: middle;\n",
       "    }\n",
       "\n",
       "    .dataframe tbody tr th {\n",
       "        vertical-align: top;\n",
       "    }\n",
       "\n",
       "    .dataframe thead th {\n",
       "        text-align: right;\n",
       "    }\n",
       "</style>\n",
       "<table border=\"1\" class=\"dataframe\">\n",
       "  <thead>\n",
       "    <tr style=\"text-align: right;\">\n",
       "      <th></th>\n",
       "      <th>State</th>\n",
       "      <th>Slope</th>\n",
       "    </tr>\n",
       "  </thead>\n",
       "  <tbody>\n",
       "    <tr>\n",
       "      <th>12</th>\n",
       "      <td>Maharashtra</td>\n",
       "      <td>-2.505</td>\n",
       "    </tr>\n",
       "    <tr>\n",
       "      <th>16</th>\n",
       "      <td>Nagaland</td>\n",
       "      <td>-2.090</td>\n",
       "    </tr>\n",
       "    <tr>\n",
       "      <th>6</th>\n",
       "      <td>Gujarat</td>\n",
       "      <td>-2.045</td>\n",
       "    </tr>\n",
       "    <tr>\n",
       "      <th>9</th>\n",
       "      <td>Karnataka</td>\n",
       "      <td>-1.496</td>\n",
       "    </tr>\n",
       "    <tr>\n",
       "      <th>15</th>\n",
       "      <td>Mizoram</td>\n",
       "      <td>-1.450</td>\n",
       "    </tr>\n",
       "    <tr>\n",
       "      <th>24</th>\n",
       "      <td>Uttar Pradesh</td>\n",
       "      <td>-1.343</td>\n",
       "    </tr>\n",
       "    <tr>\n",
       "      <th>7</th>\n",
       "      <td>Haryana</td>\n",
       "      <td>-1.216</td>\n",
       "    </tr>\n",
       "    <tr>\n",
       "      <th>17</th>\n",
       "      <td>Odisha</td>\n",
       "      <td>-1.174</td>\n",
       "    </tr>\n",
       "    <tr>\n",
       "      <th>21</th>\n",
       "      <td>Tamil Nadu</td>\n",
       "      <td>-0.940</td>\n",
       "    </tr>\n",
       "    <tr>\n",
       "      <th>19</th>\n",
       "      <td>Rajasthan</td>\n",
       "      <td>-0.905</td>\n",
       "    </tr>\n",
       "    <tr>\n",
       "      <th>18</th>\n",
       "      <td>Punjab</td>\n",
       "      <td>-0.860</td>\n",
       "    </tr>\n",
       "    <tr>\n",
       "      <th>11</th>\n",
       "      <td>Madhya Pradesh</td>\n",
       "      <td>-0.799</td>\n",
       "    </tr>\n",
       "    <tr>\n",
       "      <th>26</th>\n",
       "      <td>All_India GDP</td>\n",
       "      <td>-0.766</td>\n",
       "    </tr>\n",
       "    <tr>\n",
       "      <th>4</th>\n",
       "      <td>Chhattisgarh</td>\n",
       "      <td>-0.754</td>\n",
       "    </tr>\n",
       "    <tr>\n",
       "      <th>25</th>\n",
       "      <td>Uttarakhand</td>\n",
       "      <td>-0.693</td>\n",
       "    </tr>\n",
       "    <tr>\n",
       "      <th>20</th>\n",
       "      <td>Sikkim</td>\n",
       "      <td>-0.599</td>\n",
       "    </tr>\n",
       "    <tr>\n",
       "      <th>8</th>\n",
       "      <td>Jharkhand</td>\n",
       "      <td>-0.577</td>\n",
       "    </tr>\n",
       "    <tr>\n",
       "      <th>1</th>\n",
       "      <td>Arunachal Pradesh</td>\n",
       "      <td>-0.561</td>\n",
       "    </tr>\n",
       "    <tr>\n",
       "      <th>3</th>\n",
       "      <td>Bihar</td>\n",
       "      <td>-0.536</td>\n",
       "    </tr>\n",
       "    <tr>\n",
       "      <th>10</th>\n",
       "      <td>Kerala</td>\n",
       "      <td>-0.391</td>\n",
       "    </tr>\n",
       "    <tr>\n",
       "      <th>22</th>\n",
       "      <td>Telangana</td>\n",
       "      <td>0.392</td>\n",
       "    </tr>\n",
       "    <tr>\n",
       "      <th>14</th>\n",
       "      <td>Meghalaya</td>\n",
       "      <td>0.619</td>\n",
       "    </tr>\n",
       "    <tr>\n",
       "      <th>2</th>\n",
       "      <td>Assam</td>\n",
       "      <td>0.903</td>\n",
       "    </tr>\n",
       "    <tr>\n",
       "      <th>0</th>\n",
       "      <td>Andhra Pradesh</td>\n",
       "      <td>1.544</td>\n",
       "    </tr>\n",
       "    <tr>\n",
       "      <th>23</th>\n",
       "      <td>Tripura</td>\n",
       "      <td>1.570</td>\n",
       "    </tr>\n",
       "    <tr>\n",
       "      <th>13</th>\n",
       "      <td>Manipur</td>\n",
       "      <td>2.470</td>\n",
       "    </tr>\n",
       "    <tr>\n",
       "      <th>5</th>\n",
       "      <td>Goa</td>\n",
       "      <td>8.120</td>\n",
       "    </tr>\n",
       "  </tbody>\n",
       "</table>\n",
       "</div>"
      ],
      "text/plain": [
       "                State  Slope\n",
       "12        Maharashtra -2.505\n",
       "16           Nagaland -2.090\n",
       "6             Gujarat -2.045\n",
       "9           Karnataka -1.496\n",
       "15            Mizoram -1.450\n",
       "24      Uttar Pradesh -1.343\n",
       "7             Haryana -1.216\n",
       "17             Odisha -1.174\n",
       "21         Tamil Nadu -0.940\n",
       "19          Rajasthan -0.905\n",
       "18             Punjab -0.860\n",
       "11     Madhya Pradesh -0.799\n",
       "26      All_India GDP -0.766\n",
       "4        Chhattisgarh -0.754\n",
       "25        Uttarakhand -0.693\n",
       "20             Sikkim -0.599\n",
       "8           Jharkhand -0.577\n",
       "1   Arunachal Pradesh -0.561\n",
       "3               Bihar -0.536\n",
       "10             Kerala -0.391\n",
       "22          Telangana  0.392\n",
       "14          Meghalaya  0.619\n",
       "2               Assam  0.903\n",
       "0      Andhra Pradesh  1.544\n",
       "23            Tripura  1.570\n",
       "13            Manipur  2.470\n",
       "5                 Goa  8.120"
      ]
     },
     "execution_count": 156,
     "metadata": {},
     "output_type": "execute_result"
    }
   ],
   "source": [
    "df_slope.sort_values(by ='Slope' )"
   ]
  },
  {
   "cell_type": "markdown",
   "metadata": {},
   "source": [
    "States like Maharashtra Nagaland and Gujarat have been struggling whereas states like Goa, Manipur and Tripura have been growing consistently fast"
   ]
  },
  {
   "cell_type": "markdown",
   "metadata": {},
   "source": [
    "# North-eastern states are showing good signs of growth"
   ]
  },
  {
   "cell_type": "markdown",
   "metadata": {},
   "source": [
    "## What is the Nation's growth rate?"
   ]
  },
  {
   "cell_type": "code",
   "execution_count": 157,
   "metadata": {},
   "outputs": [
    {
     "data": {
      "text/html": [
       "<div>\n",
       "<style scoped>\n",
       "    .dataframe tbody tr th:only-of-type {\n",
       "        vertical-align: middle;\n",
       "    }\n",
       "\n",
       "    .dataframe tbody tr th {\n",
       "        vertical-align: top;\n",
       "    }\n",
       "\n",
       "    .dataframe thead th {\n",
       "        text-align: right;\n",
       "    }\n",
       "</style>\n",
       "<table border=\"1\" class=\"dataframe\">\n",
       "  <thead>\n",
       "    <tr style=\"text-align: right;\">\n",
       "      <th></th>\n",
       "      <th>Duration</th>\n",
       "      <th>All_India GDP</th>\n",
       "    </tr>\n",
       "  </thead>\n",
       "  <tbody>\n",
       "    <tr>\n",
       "      <th>6</th>\n",
       "      <td>2012-13</td>\n",
       "      <td>13.86</td>\n",
       "    </tr>\n",
       "    <tr>\n",
       "      <th>7</th>\n",
       "      <td>2013-14</td>\n",
       "      <td>12.97</td>\n",
       "    </tr>\n",
       "    <tr>\n",
       "      <th>8</th>\n",
       "      <td>2014-15</td>\n",
       "      <td>10.65</td>\n",
       "    </tr>\n",
       "    <tr>\n",
       "      <th>9</th>\n",
       "      <td>2015-16</td>\n",
       "      <td>9.99</td>\n",
       "    </tr>\n",
       "    <tr>\n",
       "      <th>10</th>\n",
       "      <td>2016-17</td>\n",
       "      <td>11.52</td>\n",
       "    </tr>\n",
       "  </tbody>\n",
       "</table>\n",
       "</div>"
      ],
      "text/plain": [
       "   Duration  All_India GDP\n",
       "6   2012-13          13.86\n",
       "7   2013-14          12.97\n",
       "8   2014-15          10.65\n",
       "9   2015-16           9.99\n",
       "10  2016-17          11.52"
      ]
     },
     "execution_count": 157,
     "metadata": {},
     "output_type": "execute_result"
    }
   ],
   "source": [
    "df_India"
   ]
  },
  {
   "cell_type": "code",
   "execution_count": 158,
   "metadata": {},
   "outputs": [
    {
     "data": {
      "text/plain": [
       "All_India GDP    11.798\n",
       "dtype: float64"
      ]
     },
     "execution_count": 158,
     "metadata": {},
     "output_type": "execute_result"
    }
   ],
   "source": [
    "df_India.mean()"
   ]
  },
  {
   "cell_type": "markdown",
   "metadata": {},
   "source": [
    "National growth rate is around 11.798"
   ]
  },
  {
   "cell_type": "markdown",
   "metadata": {},
   "source": [
    "## What has been the growth rate of your home state, and how does it compare to the national growth rate?"
   ]
  },
  {
   "cell_type": "markdown",
   "metadata": {},
   "source": [
    "I am from West Bengal. No data is available for West Bengal"
   ]
  },
  {
   "cell_type": "code",
   "execution_count": 161,
   "metadata": {},
   "outputs": [
    {
     "data": {
      "text/html": [
       "<div>\n",
       "<style scoped>\n",
       "    .dataframe tbody tr th:only-of-type {\n",
       "        vertical-align: middle;\n",
       "    }\n",
       "\n",
       "    .dataframe tbody tr th {\n",
       "        vertical-align: top;\n",
       "    }\n",
       "\n",
       "    .dataframe thead th {\n",
       "        text-align: right;\n",
       "    }\n",
       "</style>\n",
       "<table border=\"1\" class=\"dataframe\">\n",
       "  <thead>\n",
       "    <tr style=\"text-align: right;\">\n",
       "      <th></th>\n",
       "      <th>Items  Description</th>\n",
       "      <th>Duration</th>\n",
       "      <th>Andhra Pradesh</th>\n",
       "      <th>Arunachal Pradesh</th>\n",
       "      <th>Assam</th>\n",
       "      <th>Bihar</th>\n",
       "      <th>Chhattisgarh</th>\n",
       "      <th>Goa</th>\n",
       "      <th>Gujarat</th>\n",
       "      <th>Haryana</th>\n",
       "      <th>...</th>\n",
       "      <th>Telangana</th>\n",
       "      <th>Tripura</th>\n",
       "      <th>Uttar Pradesh</th>\n",
       "      <th>Uttarakhand</th>\n",
       "      <th>West Bengal1</th>\n",
       "      <th>Andaman &amp; Nicobar Islands</th>\n",
       "      <th>Chandigarh</th>\n",
       "      <th>Delhi</th>\n",
       "      <th>Puducherry</th>\n",
       "      <th>All_India GDP</th>\n",
       "    </tr>\n",
       "  </thead>\n",
       "  <tbody>\n",
       "    <tr>\n",
       "      <th>4</th>\n",
       "      <td>GSDP - CURRENT PRICES (` in Crore)</td>\n",
       "      <td>2015-16</td>\n",
       "      <td>609934.0</td>\n",
       "      <td>18784.0</td>\n",
       "      <td>224234.0</td>\n",
       "      <td>413503.0</td>\n",
       "      <td>260776.0</td>\n",
       "      <td>45002.0</td>\n",
       "      <td>994316.0</td>\n",
       "      <td>485184.0</td>\n",
       "      <td>...</td>\n",
       "      <td>575631.0</td>\n",
       "      <td>NaN</td>\n",
       "      <td>1153795.0</td>\n",
       "      <td>184091.0</td>\n",
       "      <td>NaN</td>\n",
       "      <td>NaN</td>\n",
       "      <td>30304.0</td>\n",
       "      <td>551963.0</td>\n",
       "      <td>26533.0</td>\n",
       "      <td>13675331.0</td>\n",
       "    </tr>\n",
       "  </tbody>\n",
       "</table>\n",
       "<p>1 rows × 36 columns</p>\n",
       "</div>"
      ],
      "text/plain": [
       "                   Items  Description Duration  Andhra Pradesh   \\\n",
       "4  GSDP - CURRENT PRICES (` in Crore)  2015-16         609934.0   \n",
       "\n",
       "   Arunachal Pradesh     Assam     Bihar  Chhattisgarh      Goa   Gujarat  \\\n",
       "4            18784.0  224234.0  413503.0      260776.0  45002.0  994316.0   \n",
       "\n",
       "    Haryana  ...  Telangana  Tripura  Uttar Pradesh  Uttarakhand  \\\n",
       "4  485184.0  ...   575631.0      NaN      1153795.0     184091.0   \n",
       "\n",
       "   West Bengal1  Andaman & Nicobar Islands  Chandigarh     Delhi  Puducherry  \\\n",
       "4           NaN                        NaN     30304.0  551963.0     26533.0   \n",
       "\n",
       "   All_India GDP  \n",
       "4     13675331.0  \n",
       "\n",
       "[1 rows x 36 columns]"
      ]
     },
     "execution_count": 161,
     "metadata": {},
     "output_type": "execute_result"
    }
   ],
   "source": [
    "GDP_15_16 = df1a[4:5]\n",
    "GDP_15_16"
   ]
  },
  {
   "cell_type": "code",
   "execution_count": 171,
   "metadata": {},
   "outputs": [],
   "source": [
    "state_list = list(GDP_15_16.columns.values)\n",
    "state_list = state_list[2:-1]"
   ]
  },
  {
   "cell_type": "code",
   "execution_count": 172,
   "metadata": {},
   "outputs": [],
   "source": [
    "value_list = GDP_15_16.values.tolist()[0]\n",
    "value_list = value_list[2:-1]"
   ]
  },
  {
   "cell_type": "code",
   "execution_count": 192,
   "metadata": {},
   "outputs": [
    {
     "data": {
      "image/png": "[encoded data removed]",
      "text/plain": [
       "<Figure size 3000x1000 with 1 Axes>"
      ]
     },
     "metadata": {},
     "output_type": "display_data"
    }
   ],
   "source": [
    "import matplotlib.pyplot as plt; plt.rcdefaults()\n",
    "import matplotlib.pyplot as plt\n",
    "\n",
    "objects = state_list\n",
    "y_pos = np.arange(len(objects))\n",
    "performance = value_list\n",
    "\n",
    "plt.figure(figsize=(30, 10))  # width:20, height:3\n",
    "plt.bar(y_pos, performance, align='center', width=0.5)\n",
    "\n",
    "\n",
    "plt.xticks(y_pos, objects, rotation='vertical')\n",
    "plt.ylabel('GDP in crores')\n",
    "plt.title('States GDP Comparison')\n",
    "\n",
    "plt.show()"
   ]
  },
  {
   "cell_type": "markdown",
   "metadata": {},
   "source": [
    "## Which Plot will you use for this? Why? (Remeber to plot the graph in a way such as it is easier to read and compare)"
   ]
  },
  {
   "cell_type": "markdown",
   "metadata": {},
   "source": [
    "Bar graph shows distribution of the GDP for 2015-16 in a clear format to read and compare"
   ]
  },
  {
   "cell_type": "markdown",
   "metadata": {},
   "source": [
    "## Identify the top 5 and the bottom 5 states based on total GDP."
   ]
  },
  {
   "cell_type": "markdown",
   "metadata": {},
   "source": [
    "From the above graph we can say Tamil Nadu followed by UP, Karnataka, Gujarat and Andhra Pradesh are the top 5 states based on total GDP whereas\n",
    "Uttrakhand followed by Goa, Meghalaya, Arunachal Pradesh and Sikkim are the bottom 5 states"
   ]
  },
  {
   "cell_type": "code",
   "execution_count": 188,
   "metadata": {},
   "outputs": [
    {
     "data": {
      "text/html": [
       "<div>\n",
       "<style scoped>\n",
       "    .dataframe tbody tr th:only-of-type {\n",
       "        vertical-align: middle;\n",
       "    }\n",
       "\n",
       "    .dataframe tbody tr th {\n",
       "        vertical-align: top;\n",
       "    }\n",
       "\n",
       "    .dataframe thead th {\n",
       "        text-align: right;\n",
       "    }\n",
       "</style>\n",
       "<table border=\"1\" class=\"dataframe\">\n",
       "  <thead>\n",
       "    <tr style=\"text-align: right;\">\n",
       "      <th></th>\n",
       "      <th>Duration</th>\n",
       "      <th>Uttarakhand</th>\n",
       "    </tr>\n",
       "  </thead>\n",
       "  <tbody>\n",
       "    <tr>\n",
       "      <th>6</th>\n",
       "      <td>2012-13</td>\n",
       "      <td>14.12</td>\n",
       "    </tr>\n",
       "    <tr>\n",
       "      <th>7</th>\n",
       "      <td>2013-14</td>\n",
       "      <td>13.64</td>\n",
       "    </tr>\n",
       "    <tr>\n",
       "      <th>8</th>\n",
       "      <td>2014-15</td>\n",
       "      <td>8.12</td>\n",
       "    </tr>\n",
       "    <tr>\n",
       "      <th>9</th>\n",
       "      <td>2015-16</td>\n",
       "      <td>13.65</td>\n",
       "    </tr>\n",
       "  </tbody>\n",
       "</table>\n",
       "</div>"
      ],
      "text/plain": [
       "  Duration  Uttarakhand\n",
       "6  2012-13        14.12\n",
       "7  2013-14        13.64\n",
       "8  2014-15         8.12\n",
       "9  2015-16        13.65"
      ]
     },
     "execution_count": 188,
     "metadata": {},
     "output_type": "execute_result"
    }
   ],
   "source": [
    "df_Uk"
   ]
  },
  {
   "cell_type": "code",
   "execution_count": 184,
   "metadata": {},
   "outputs": [
    {
     "data": {
      "text/html": [
       "<div>\n",
       "<style scoped>\n",
       "    .dataframe tbody tr th:only-of-type {\n",
       "        vertical-align: middle;\n",
       "    }\n",
       "\n",
       "    .dataframe tbody tr th {\n",
       "        vertical-align: top;\n",
       "    }\n",
       "\n",
       "    .dataframe thead th {\n",
       "        text-align: right;\n",
       "    }\n",
       "</style>\n",
       "<table border=\"1\" class=\"dataframe\">\n",
       "  <thead>\n",
       "    <tr style=\"text-align: right;\">\n",
       "      <th></th>\n",
       "      <th>Duration</th>\n",
       "      <th>Goa</th>\n",
       "    </tr>\n",
       "  </thead>\n",
       "  <tbody>\n",
       "    <tr>\n",
       "      <th>6</th>\n",
       "      <td>2012-13</td>\n",
       "      <td>-10.02</td>\n",
       "    </tr>\n",
       "    <tr>\n",
       "      <th>7</th>\n",
       "      <td>2013-14</td>\n",
       "      <td>-5.77</td>\n",
       "    </tr>\n",
       "    <tr>\n",
       "      <th>8</th>\n",
       "      <td>2014-15</td>\n",
       "      <td>13.12</td>\n",
       "    </tr>\n",
       "    <tr>\n",
       "      <th>9</th>\n",
       "      <td>2015-16</td>\n",
       "      <td>10.75</td>\n",
       "    </tr>\n",
       "  </tbody>\n",
       "</table>\n",
       "</div>"
      ],
      "text/plain": [
       "  Duration    Goa\n",
       "6  2012-13 -10.02\n",
       "7  2013-14  -5.77\n",
       "8  2014-15  13.12\n",
       "9  2015-16  10.75"
      ]
     },
     "execution_count": 184,
     "metadata": {},
     "output_type": "execute_result"
    }
   ],
   "source": [
    "df_G"
   ]
  },
  {
   "cell_type": "code",
   "execution_count": 185,
   "metadata": {},
   "outputs": [
    {
     "data": {
      "text/html": [
       "<div>\n",
       "<style scoped>\n",
       "    .dataframe tbody tr th:only-of-type {\n",
       "        vertical-align: middle;\n",
       "    }\n",
       "\n",
       "    .dataframe tbody tr th {\n",
       "        vertical-align: top;\n",
       "    }\n",
       "\n",
       "    .dataframe thead th {\n",
       "        text-align: right;\n",
       "    }\n",
       "</style>\n",
       "<table border=\"1\" class=\"dataframe\">\n",
       "  <thead>\n",
       "    <tr style=\"text-align: right;\">\n",
       "      <th></th>\n",
       "      <th>Duration</th>\n",
       "      <th>Meghalaya</th>\n",
       "    </tr>\n",
       "  </thead>\n",
       "  <tbody>\n",
       "    <tr>\n",
       "      <th>6</th>\n",
       "      <td>2012-13</td>\n",
       "      <td>9.81</td>\n",
       "    </tr>\n",
       "    <tr>\n",
       "      <th>7</th>\n",
       "      <td>2013-14</td>\n",
       "      <td>4.87</td>\n",
       "    </tr>\n",
       "    <tr>\n",
       "      <th>8</th>\n",
       "      <td>2014-15</td>\n",
       "      <td>6.41</td>\n",
       "    </tr>\n",
       "    <tr>\n",
       "      <th>9</th>\n",
       "      <td>2015-16</td>\n",
       "      <td>9.58</td>\n",
       "    </tr>\n",
       "    <tr>\n",
       "      <th>10</th>\n",
       "      <td>2016-17</td>\n",
       "      <td>10.55</td>\n",
       "    </tr>\n",
       "  </tbody>\n",
       "</table>\n",
       "</div>"
      ],
      "text/plain": [
       "   Duration  Meghalaya\n",
       "6   2012-13       9.81\n",
       "7   2013-14       4.87\n",
       "8   2014-15       6.41\n",
       "9   2015-16       9.58\n",
       "10  2016-17      10.55"
      ]
     },
     "execution_count": 185,
     "metadata": {},
     "output_type": "execute_result"
    }
   ],
   "source": [
    "df_Me"
   ]
  },
  {
   "cell_type": "code",
   "execution_count": 186,
   "metadata": {},
   "outputs": [
    {
     "data": {
      "text/html": [
       "<div>\n",
       "<style scoped>\n",
       "    .dataframe tbody tr th:only-of-type {\n",
       "        vertical-align: middle;\n",
       "    }\n",
       "\n",
       "    .dataframe tbody tr th {\n",
       "        vertical-align: top;\n",
       "    }\n",
       "\n",
       "    .dataframe thead th {\n",
       "        text-align: right;\n",
       "    }\n",
       "</style>\n",
       "<table border=\"1\" class=\"dataframe\">\n",
       "  <thead>\n",
       "    <tr style=\"text-align: right;\">\n",
       "      <th></th>\n",
       "      <th>Duration</th>\n",
       "      <th>Arunachal Pradesh</th>\n",
       "    </tr>\n",
       "  </thead>\n",
       "  <tbody>\n",
       "    <tr>\n",
       "      <th>6</th>\n",
       "      <td>2012-13</td>\n",
       "      <td>13.41</td>\n",
       "    </tr>\n",
       "    <tr>\n",
       "      <th>7</th>\n",
       "      <td>2013-14</td>\n",
       "      <td>16.38</td>\n",
       "    </tr>\n",
       "    <tr>\n",
       "      <th>8</th>\n",
       "      <td>2014-15</td>\n",
       "      <td>14.79</td>\n",
       "    </tr>\n",
       "    <tr>\n",
       "      <th>9</th>\n",
       "      <td>2015-16</td>\n",
       "      <td>12.07</td>\n",
       "    </tr>\n",
       "  </tbody>\n",
       "</table>\n",
       "</div>"
      ],
      "text/plain": [
       "  Duration  Arunachal Pradesh\n",
       "6  2012-13              13.41\n",
       "7  2013-14              16.38\n",
       "8  2014-15              14.79\n",
       "9  2015-16              12.07"
      ]
     },
     "execution_count": 186,
     "metadata": {},
     "output_type": "execute_result"
    }
   ],
   "source": [
    "df_ArP"
   ]
  },
  {
   "cell_type": "code",
   "execution_count": 187,
   "metadata": {},
   "outputs": [
    {
     "data": {
      "text/html": [
       "<div>\n",
       "<style scoped>\n",
       "    .dataframe tbody tr th:only-of-type {\n",
       "        vertical-align: middle;\n",
       "    }\n",
       "\n",
       "    .dataframe tbody tr th {\n",
       "        vertical-align: top;\n",
       "    }\n",
       "\n",
       "    .dataframe thead th {\n",
       "        text-align: right;\n",
       "    }\n",
       "</style>\n",
       "<table border=\"1\" class=\"dataframe\">\n",
       "  <thead>\n",
       "    <tr style=\"text-align: right;\">\n",
       "      <th></th>\n",
       "      <th>Duration</th>\n",
       "      <th>Sikkim</th>\n",
       "    </tr>\n",
       "  </thead>\n",
       "  <tbody>\n",
       "    <tr>\n",
       "      <th>6</th>\n",
       "      <td>2012-13</td>\n",
       "      <td>10.51</td>\n",
       "    </tr>\n",
       "    <tr>\n",
       "      <th>7</th>\n",
       "      <td>2013-14</td>\n",
       "      <td>12.35</td>\n",
       "    </tr>\n",
       "    <tr>\n",
       "      <th>8</th>\n",
       "      <td>2014-15</td>\n",
       "      <td>9.72</td>\n",
       "    </tr>\n",
       "    <tr>\n",
       "      <th>9</th>\n",
       "      <td>2015-16</td>\n",
       "      <td>9.39</td>\n",
       "    </tr>\n",
       "  </tbody>\n",
       "</table>\n",
       "</div>"
      ],
      "text/plain": [
       "  Duration  Sikkim\n",
       "6  2012-13   10.51\n",
       "7  2013-14   12.35\n",
       "8  2014-15    9.72\n",
       "9  2015-16    9.39"
      ]
     },
     "execution_count": 187,
     "metadata": {},
     "output_type": "execute_result"
    }
   ],
   "source": [
    "df_Sk"
   ]
  },
  {
   "cell_type": "markdown",
   "metadata": {},
   "source": [
    "# From the above data and graphs it is seen that 3 of the bottom 5 states are from the north-eastern regions because they are highly neglected.\n",
    "# Goa totally depends on tourism for its development so it can be a risky factor because a lot of things impact on tourism like goevernment policies, international relations, rising tensions because of imminent war etc.\n",
    "# Uttarakhand is recently recovering from the floods of 2013. We can see from the dataframe that in 2013 there was a massive dip in the growth."
   ]
  }
 ],
 "metadata": {
  "kernelspec": {
   "display_name": "Python 3",
   "language": "python",
   "name": "python3"
  },
  "language_info": {
   "codemirror_mode": {
    "name": "ipython",
    "version": 3
   },
   "file_extension": ".py",
   "mimetype": "text/x-python",
   "name": "python",
   "nbconvert_exporter": "python",
   "pygments_lexer": "ipython3",
   "version": "3.6.8"
  }
 },
 "nbformat": 4,
 "nbformat_minor": 2
}
